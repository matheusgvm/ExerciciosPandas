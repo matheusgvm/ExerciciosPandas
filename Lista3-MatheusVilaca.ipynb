{
 "cells": [
  {
   "cell_type": "markdown",
   "metadata": {},
   "source": [
    "Feito por Matheus Guilherme Vilaça de Melo"
   ]
  },
  {
   "cell_type": "markdown",
   "metadata": {},
   "source": [
    "Parte 1 - Etapa 1"
   ]
  },
  {
   "cell_type": "code",
   "execution_count": 1,
   "metadata": {},
   "outputs": [
    {
     "data": {
      "text/html": [
       "<div>\n",
       "<style scoped>\n",
       "    .dataframe tbody tr th:only-of-type {\n",
       "        vertical-align: middle;\n",
       "    }\n",
       "\n",
       "    .dataframe tbody tr th {\n",
       "        vertical-align: top;\n",
       "    }\n",
       "\n",
       "    .dataframe thead th {\n",
       "        text-align: right;\n",
       "    }\n",
       "</style>\n",
       "<table border=\"1\" class=\"dataframe\">\n",
       "  <thead>\n",
       "    <tr style=\"text-align: right;\">\n",
       "      <th></th>\n",
       "      <th>Title</th>\n",
       "      <th>Genre</th>\n",
       "      <th>Month</th>\n",
       "      <th>Day</th>\n",
       "      <th>Year</th>\n",
       "      <th>Runtime</th>\n",
       "      <th>IMDB Score</th>\n",
       "      <th>Language</th>\n",
       "    </tr>\n",
       "  </thead>\n",
       "  <tbody>\n",
       "    <tr>\n",
       "      <th>0</th>\n",
       "      <td>Enter the Anime</td>\n",
       "      <td>Documentary</td>\n",
       "      <td>August</td>\n",
       "      <td>5</td>\n",
       "      <td>2019</td>\n",
       "      <td>58</td>\n",
       "      <td>2.5</td>\n",
       "      <td>English/Japanese</td>\n",
       "    </tr>\n",
       "    <tr>\n",
       "      <th>1</th>\n",
       "      <td>Dark Forces</td>\n",
       "      <td>Thriller</td>\n",
       "      <td>August</td>\n",
       "      <td>21</td>\n",
       "      <td>2020</td>\n",
       "      <td>81</td>\n",
       "      <td>2.6</td>\n",
       "      <td>Spanish</td>\n",
       "    </tr>\n",
       "    <tr>\n",
       "      <th>2</th>\n",
       "      <td>The App</td>\n",
       "      <td>Science fiction/Drama</td>\n",
       "      <td>December</td>\n",
       "      <td>26</td>\n",
       "      <td>2019</td>\n",
       "      <td>79</td>\n",
       "      <td>2.6</td>\n",
       "      <td>Italian</td>\n",
       "    </tr>\n",
       "    <tr>\n",
       "      <th>3</th>\n",
       "      <td>The Open House</td>\n",
       "      <td>Horror thriller</td>\n",
       "      <td>January</td>\n",
       "      <td>19</td>\n",
       "      <td>2018</td>\n",
       "      <td>94</td>\n",
       "      <td>3.2</td>\n",
       "      <td>English</td>\n",
       "    </tr>\n",
       "    <tr>\n",
       "      <th>4</th>\n",
       "      <td>Kaali Khuhi</td>\n",
       "      <td>Mystery</td>\n",
       "      <td>October</td>\n",
       "      <td>30</td>\n",
       "      <td>2020</td>\n",
       "      <td>90</td>\n",
       "      <td>3.4</td>\n",
       "      <td>Hindi</td>\n",
       "    </tr>\n",
       "    <tr>\n",
       "      <th>5</th>\n",
       "      <td>Drive</td>\n",
       "      <td>Action</td>\n",
       "      <td>November</td>\n",
       "      <td>1</td>\n",
       "      <td>2019</td>\n",
       "      <td>147</td>\n",
       "      <td>3.5</td>\n",
       "      <td>Hindi</td>\n",
       "    </tr>\n",
       "    <tr>\n",
       "      <th>6</th>\n",
       "      <td>Leyla Everlasting</td>\n",
       "      <td>Comedy</td>\n",
       "      <td>December</td>\n",
       "      <td>4</td>\n",
       "      <td>2020</td>\n",
       "      <td>112</td>\n",
       "      <td>3.7</td>\n",
       "      <td>Turkish</td>\n",
       "    </tr>\n",
       "    <tr>\n",
       "      <th>7</th>\n",
       "      <td>The Last Days of American Crime</td>\n",
       "      <td>Heist film/Thriller</td>\n",
       "      <td>June</td>\n",
       "      <td>5</td>\n",
       "      <td>2020</td>\n",
       "      <td>149</td>\n",
       "      <td>3.7</td>\n",
       "      <td>English</td>\n",
       "    </tr>\n",
       "    <tr>\n",
       "      <th>8</th>\n",
       "      <td>Paradox</td>\n",
       "      <td>Musical/Western/Fantasy</td>\n",
       "      <td>March</td>\n",
       "      <td>23</td>\n",
       "      <td>2018</td>\n",
       "      <td>73</td>\n",
       "      <td>3.9</td>\n",
       "      <td>English</td>\n",
       "    </tr>\n",
       "    <tr>\n",
       "      <th>9</th>\n",
       "      <td>Sardar Ka Grandson</td>\n",
       "      <td>Comedy</td>\n",
       "      <td>May</td>\n",
       "      <td>18</td>\n",
       "      <td>2021</td>\n",
       "      <td>139</td>\n",
       "      <td>4.1</td>\n",
       "      <td>Hindi</td>\n",
       "    </tr>\n",
       "  </tbody>\n",
       "</table>\n",
       "</div>"
      ],
      "text/plain": [
       "                             Title                    Genre     Month  Day  \\\n",
       "0                  Enter the Anime              Documentary    August    5   \n",
       "1                      Dark Forces                 Thriller    August   21   \n",
       "2                          The App    Science fiction/Drama  December   26   \n",
       "3                   The Open House          Horror thriller   January   19   \n",
       "4                      Kaali Khuhi                  Mystery   October   30   \n",
       "5                            Drive                   Action  November    1   \n",
       "6                Leyla Everlasting                   Comedy  December    4   \n",
       "7  The Last Days of American Crime      Heist film/Thriller      June    5   \n",
       "8                          Paradox  Musical/Western/Fantasy     March   23   \n",
       "9               Sardar Ka Grandson                   Comedy       May   18   \n",
       "\n",
       "   Year  Runtime  IMDB Score          Language  \n",
       "0  2019       58         2.5  English/Japanese  \n",
       "1  2020       81         2.6           Spanish  \n",
       "2  2019       79         2.6           Italian  \n",
       "3  2018       94         3.2           English  \n",
       "4  2020       90         3.4             Hindi  \n",
       "5  2019      147         3.5             Hindi  \n",
       "6  2020      112         3.7           Turkish  \n",
       "7  2020      149         3.7           English  \n",
       "8  2018       73         3.9           English  \n",
       "9  2021      139         4.1             Hindi  "
      ]
     },
     "execution_count": 1,
     "metadata": {},
     "output_type": "execute_result"
    }
   ],
   "source": [
    "# 1 - Importe os dados do arquivo “NetflixOriginals.csv”\n",
    "\n",
    "import pandas as pd\n",
    "\n",
    "df_netflix = pd.read_csv(\"ExercicioNetflixOriginals.csv\", sep=';', encoding = \"cp1252\")\n",
    "df_netflix.head(10)"
   ]
  },
  {
   "cell_type": "code",
   "execution_count": 2,
   "metadata": {},
   "outputs": [
    {
     "name": "stdout",
     "output_type": "stream",
     "text": [
      "<class 'pandas.core.frame.DataFrame'>\n",
      "RangeIndex: 600 entries, 0 to 599\n",
      "Data columns (total 8 columns):\n",
      " #   Column      Non-Null Count  Dtype  \n",
      "---  ------      --------------  -----  \n",
      " 0   Title       600 non-null    object \n",
      " 1   Genre       600 non-null    object \n",
      " 2   Month       600 non-null    object \n",
      " 3   Day         600 non-null    int64  \n",
      " 4   Year        600 non-null    int64  \n",
      " 5   Runtime     600 non-null    int64  \n",
      " 6   IMDB Score  594 non-null    float64\n",
      " 7   Language    600 non-null    object \n",
      "dtypes: float64(1), int64(3), object(4)\n",
      "memory usage: 37.6+ KB\n"
     ]
    }
   ],
   "source": [
    "# 2 - Em caso de linhas inteiramente duplicadas, remova as duplicações deixando apenas a primeira ocorrência dos casos\n",
    "\n",
    "df_netflix.info()"
   ]
  },
  {
   "cell_type": "code",
   "execution_count": 3,
   "metadata": {},
   "outputs": [
    {
     "name": "stdout",
     "output_type": "stream",
     "text": [
      "<class 'pandas.core.frame.DataFrame'>\n",
      "Int64Index: 568 entries, 0 to 567\n",
      "Data columns (total 8 columns):\n",
      " #   Column      Non-Null Count  Dtype  \n",
      "---  ------      --------------  -----  \n",
      " 0   Title       568 non-null    object \n",
      " 1   Genre       568 non-null    object \n",
      " 2   Month       568 non-null    object \n",
      " 3   Day         568 non-null    int64  \n",
      " 4   Year        568 non-null    int64  \n",
      " 5   Runtime     568 non-null    int64  \n",
      " 6   IMDB Score  562 non-null    float64\n",
      " 7   Language    568 non-null    object \n",
      "dtypes: float64(1), int64(3), object(4)\n",
      "memory usage: 39.9+ KB\n"
     ]
    }
   ],
   "source": [
    "df_netflix.drop_duplicates(keep='first', inplace=True)\n",
    "df_netflix.info()"
   ]
  },
  {
   "cell_type": "code",
   "execution_count": 4,
   "metadata": {},
   "outputs": [
    {
     "name": "stdout",
     "output_type": "stream",
     "text": [
      "<class 'pandas.core.frame.DataFrame'>\n",
      "Int64Index: 562 entries, 0 to 567\n",
      "Data columns (total 8 columns):\n",
      " #   Column      Non-Null Count  Dtype  \n",
      "---  ------      --------------  -----  \n",
      " 0   Title       562 non-null    object \n",
      " 1   Genre       562 non-null    object \n",
      " 2   Month       562 non-null    object \n",
      " 3   Day         562 non-null    int64  \n",
      " 4   Year        562 non-null    int64  \n",
      " 5   Runtime     562 non-null    int64  \n",
      " 6   IMDB Score  562 non-null    float64\n",
      " 7   Language    562 non-null    object \n",
      "dtypes: float64(1), int64(3), object(4)\n",
      "memory usage: 39.5+ KB\n"
     ]
    }
   ],
   "source": [
    "# 3 - As linhas sem a informação “IMDB Score” devem ser desconsideradas\n",
    "\n",
    "df_netflix.dropna(subset=['IMDB Score'], inplace=True)\n",
    "df_netflix.info()"
   ]
  },
  {
   "cell_type": "markdown",
   "metadata": {},
   "source": [
    "Etapa 2"
   ]
  },
  {
   "cell_type": "code",
   "execution_count": 5,
   "metadata": {},
   "outputs": [
    {
     "name": "stdout",
     "output_type": "stream",
     "text": [
      "111\n",
      "38\n"
     ]
    }
   ],
   "source": [
    "# 1 - Conte quantos itens exclusivos tem para atributos \"Genre\" e \"Language\"\n",
    " \n",
    "print(df_netflix['Genre'].nunique())\n",
    "print(df_netflix['Language'].nunique())"
   ]
  },
  {
   "cell_type": "code",
   "execution_count": 6,
   "metadata": {},
   "outputs": [
    {
     "data": {
      "text/plain": [
       "12"
      ]
     },
     "execution_count": 6,
     "metadata": {},
     "output_type": "execute_result"
    }
   ],
   "source": [
    "# 2 - Quantos filmes do idioma português existem na base de dados?\n",
    "\n",
    "df_netflix.loc[df_netflix['Language'] == \"Portuguese\"].shape[0]"
   ]
  },
  {
   "cell_type": "code",
   "execution_count": 7,
   "metadata": {},
   "outputs": [
    {
     "data": {
      "text/plain": [
       "148"
      ]
     },
     "execution_count": 7,
     "metadata": {},
     "output_type": "execute_result"
    }
   ],
   "source": [
    "# 3 - Quantos filmes do gênero documentário existem na base de dados?\n",
    "\n",
    "df_netflix.loc[df_netflix['Genre'] == \"Documentary\"].shape[0]"
   ]
  },
  {
   "cell_type": "code",
   "execution_count": 8,
   "metadata": {},
   "outputs": [
    {
     "data": {
      "text/plain": [
       "249"
      ]
     },
     "execution_count": 8,
     "metadata": {},
     "output_type": "execute_result"
    }
   ],
   "source": [
    "# 4 - Quantos filmes têm ano de lançamento igual ou maior à 2020 na base de dados?\n",
    "\n",
    "df_netflix.loc[df_netflix['Year'] >= 2020].shape[0]"
   ]
  },
  {
   "cell_type": "code",
   "execution_count": 9,
   "metadata": {},
   "outputs": [
    {
     "data": {
      "text/plain": [
       "2"
      ]
     },
     "execution_count": 9,
     "metadata": {},
     "output_type": "execute_result"
    }
   ],
   "source": [
    "# 5 - Quantos filmes do idioma português com nota acima de 7 existem na base de dados?\n",
    "\n",
    "df_netflix.loc[(df_netflix['Language'] == \"Portuguese\") & (df_netflix['IMDB Score'] > 7)].shape[0]"
   ]
  },
  {
   "cell_type": "code",
   "execution_count": 10,
   "metadata": {},
   "outputs": [
    {
     "data": {
      "text/plain": [
       "85"
      ]
     },
     "execution_count": 10,
     "metadata": {},
     "output_type": "execute_result"
    }
   ],
   "source": [
    "# 6 - Quantos filmes com ano de lançamento menor que 2020 na base de dados têm nota maior que 7?\n",
    "\n",
    "df_netflix.loc[(df_netflix['Year'] < 2020) & (df_netflix['IMDB Score'] > 7)].shape[0]"
   ]
  },
  {
   "cell_type": "code",
   "execution_count": 11,
   "metadata": {},
   "outputs": [
    {
     "data": {
      "text/plain": [
       "5"
      ]
     },
     "execution_count": 11,
     "metadata": {},
     "output_type": "execute_result"
    }
   ],
   "source": [
    "# 7 - Quantos filmes em português ou espanhol, com ano de lançamento maior ou igual à 2020, têm nota maior que 7?\n",
    "\n",
    "df_netflix.loc[(df_netflix['Language'].isin([\"Portuguese\", \"Spanish\"])) & (df_netflix['Year'] >= 2020) & (df_netflix['IMDB Score'] > 7)].shape[0]"
   ]
  },
  {
   "cell_type": "code",
   "execution_count": 12,
   "metadata": {},
   "outputs": [
    {
     "data": {
      "text/plain": [
       "Year\n",
       "2014      1\n",
       "2015      8\n",
       "2016     29\n",
       "2017     62\n",
       "2018     95\n",
       "2019    118\n",
       "2020    180\n",
       "2021     69\n",
       "Name: Year, dtype: int64"
      ]
     },
     "execution_count": 12,
     "metadata": {},
     "output_type": "execute_result"
    }
   ],
   "source": [
    "# 8 - Monte uma tabela com a quantidade de filmes lançados por ano\n",
    "\n",
    "df_netflix.groupby('Year')['Year'].count()"
   ]
  },
  {
   "cell_type": "code",
   "execution_count": 13,
   "metadata": {},
   "outputs": [
    {
     "data": {
      "text/html": [
       "<div>\n",
       "<style scoped>\n",
       "    .dataframe tbody tr th:only-of-type {\n",
       "        vertical-align: middle;\n",
       "    }\n",
       "\n",
       "    .dataframe tbody tr th {\n",
       "        vertical-align: top;\n",
       "    }\n",
       "\n",
       "    .dataframe thead th {\n",
       "        text-align: right;\n",
       "    }\n",
       "</style>\n",
       "<table border=\"1\" class=\"dataframe\">\n",
       "  <thead>\n",
       "    <tr style=\"text-align: right;\">\n",
       "      <th></th>\n",
       "      <th>Genre</th>\n",
       "      <th>IMDB Score</th>\n",
       "    </tr>\n",
       "    <tr>\n",
       "      <th>Genre</th>\n",
       "      <th></th>\n",
       "      <th></th>\n",
       "    </tr>\n",
       "  </thead>\n",
       "  <tbody>\n",
       "    <tr>\n",
       "      <th>Documentary</th>\n",
       "      <td>148</td>\n",
       "      <td>6.965541</td>\n",
       "    </tr>\n",
       "    <tr>\n",
       "      <th>Drama</th>\n",
       "      <td>77</td>\n",
       "      <td>6.342857</td>\n",
       "    </tr>\n",
       "    <tr>\n",
       "      <th>Comedy</th>\n",
       "      <td>47</td>\n",
       "      <td>5.508511</td>\n",
       "    </tr>\n",
       "    <tr>\n",
       "      <th>Romantic comedy</th>\n",
       "      <td>37</td>\n",
       "      <td>5.870270</td>\n",
       "    </tr>\n",
       "    <tr>\n",
       "      <th>Thriller</th>\n",
       "      <td>33</td>\n",
       "      <td>5.563636</td>\n",
       "    </tr>\n",
       "    <tr>\n",
       "      <th>Comedy-drama</th>\n",
       "      <td>14</td>\n",
       "      <td>6.214286</td>\n",
       "    </tr>\n",
       "    <tr>\n",
       "      <th>Crime drama</th>\n",
       "      <td>11</td>\n",
       "      <td>6.745455</td>\n",
       "    </tr>\n",
       "    <tr>\n",
       "      <th>Biopic</th>\n",
       "      <td>9</td>\n",
       "      <td>6.400000</td>\n",
       "    </tr>\n",
       "    <tr>\n",
       "      <th>Horror</th>\n",
       "      <td>9</td>\n",
       "      <td>5.255556</td>\n",
       "    </tr>\n",
       "    <tr>\n",
       "      <th>Action</th>\n",
       "      <td>7</td>\n",
       "      <td>5.414286</td>\n",
       "    </tr>\n",
       "  </tbody>\n",
       "</table>\n",
       "</div>"
      ],
      "text/plain": [
       "                 Genre  IMDB Score\n",
       "Genre                             \n",
       "Documentary        148    6.965541\n",
       "Drama               77    6.342857\n",
       "Comedy              47    5.508511\n",
       "Romantic comedy     37    5.870270\n",
       "Thriller            33    5.563636\n",
       "Comedy-drama        14    6.214286\n",
       "Crime drama         11    6.745455\n",
       "Biopic               9    6.400000\n",
       "Horror               9    5.255556\n",
       "Action               7    5.414286"
      ]
     },
     "execution_count": 13,
     "metadata": {},
     "output_type": "execute_result"
    }
   ],
   "source": [
    "# 9 - Monte uma tabela com a quantidade e a nota média dos 10 principais gêneros da base de dados. A definição dos 10 maiores se dará pela quantidade de ocorrências em cada gênero.\n",
    "\n",
    "df_netflix.groupby('Genre').agg({'Genre':'count', 'IMDB Score': 'mean'}).nlargest(10, 'Genre')"
   ]
  },
  {
   "cell_type": "code",
   "execution_count": 14,
   "metadata": {},
   "outputs": [
    {
     "data": {
      "text/html": [
       "<div>\n",
       "<style scoped>\n",
       "    .dataframe tbody tr th:only-of-type {\n",
       "        vertical-align: middle;\n",
       "    }\n",
       "\n",
       "    .dataframe tbody tr th {\n",
       "        vertical-align: top;\n",
       "    }\n",
       "\n",
       "    .dataframe thead th {\n",
       "        text-align: right;\n",
       "    }\n",
       "</style>\n",
       "<table border=\"1\" class=\"dataframe\">\n",
       "  <thead>\n",
       "    <tr style=\"text-align: right;\">\n",
       "      <th></th>\n",
       "      <th>Genre</th>\n",
       "      <th>IMDB Score</th>\n",
       "    </tr>\n",
       "    <tr>\n",
       "      <th>Genre</th>\n",
       "      <th></th>\n",
       "      <th></th>\n",
       "    </tr>\n",
       "  </thead>\n",
       "  <tbody>\n",
       "    <tr>\n",
       "      <th>Comedy</th>\n",
       "      <td>6</td>\n",
       "      <td>5.733333</td>\n",
       "    </tr>\n",
       "    <tr>\n",
       "      <th>Documentary</th>\n",
       "      <td>3</td>\n",
       "      <td>7.566667</td>\n",
       "    </tr>\n",
       "    <tr>\n",
       "      <th>Comedy-drama</th>\n",
       "      <td>1</td>\n",
       "      <td>5.600000</td>\n",
       "    </tr>\n",
       "    <tr>\n",
       "      <th>Romantic comedy</th>\n",
       "      <td>1</td>\n",
       "      <td>5.800000</td>\n",
       "    </tr>\n",
       "    <tr>\n",
       "      <th>Western</th>\n",
       "      <td>1</td>\n",
       "      <td>6.100000</td>\n",
       "    </tr>\n",
       "  </tbody>\n",
       "</table>\n",
       "</div>"
      ],
      "text/plain": [
       "                 Genre  IMDB Score\n",
       "Genre                             \n",
       "Comedy               6    5.733333\n",
       "Documentary          3    7.566667\n",
       "Comedy-drama         1    5.600000\n",
       "Romantic comedy      1    5.800000\n",
       "Western              1    6.100000"
      ]
     },
     "execution_count": 14,
     "metadata": {},
     "output_type": "execute_result"
    }
   ],
   "source": [
    "# 10 - Monte uma tabela com a quantidade e a nota média dos 10 principais gêneros da base de dados, apenas para o idioma português. Novamente, a definição dos 10 maiores se dará pela quantidade de ocorrências em cada gênero\n",
    "\n",
    "df_netflix.where(df_netflix['Language'] == 'Portuguese').groupby('Genre').agg({'Genre':'count', 'IMDB Score': 'mean'}).nlargest(10, 'Genre')"
   ]
  },
  {
   "cell_type": "markdown",
   "metadata": {},
   "source": [
    "Parte 2 - Etapa 1"
   ]
  },
  {
   "cell_type": "code",
   "execution_count": 28,
   "metadata": {},
   "outputs": [],
   "source": [
    "# 1 - Importe os três arquivos\n",
    "\n",
    "df_itens = pd.read_excel('Itens_Luthier.xlsx')\n",
    "df_precos = pd.read_excel('Precos_Luthier.xlsx')\n",
    "df_vendas = pd.read_excel('Vendas_Luthier.xlsx')"
   ]
  },
  {
   "cell_type": "code",
   "execution_count": 16,
   "metadata": {},
   "outputs": [
    {
     "data": {
      "text/html": [
       "<div>\n",
       "<style scoped>\n",
       "    .dataframe tbody tr th:only-of-type {\n",
       "        vertical-align: middle;\n",
       "    }\n",
       "\n",
       "    .dataframe tbody tr th {\n",
       "        vertical-align: top;\n",
       "    }\n",
       "\n",
       "    .dataframe thead th {\n",
       "        text-align: right;\n",
       "    }\n",
       "</style>\n",
       "<table border=\"1\" class=\"dataframe\">\n",
       "  <thead>\n",
       "    <tr style=\"text-align: right;\">\n",
       "      <th></th>\n",
       "      <th>Cód</th>\n",
       "      <th>Tipo</th>\n",
       "      <th>Descrição</th>\n",
       "    </tr>\n",
       "  </thead>\n",
       "  <tbody>\n",
       "    <tr>\n",
       "      <th>0</th>\n",
       "      <td>G01</td>\n",
       "      <td>Guitarra</td>\n",
       "      <td>Gibson Les Paul 2010</td>\n",
       "    </tr>\n",
       "    <tr>\n",
       "      <th>1</th>\n",
       "      <td>G02</td>\n",
       "      <td>Guitarra</td>\n",
       "      <td>Gibson SG 2016</td>\n",
       "    </tr>\n",
       "    <tr>\n",
       "      <th>2</th>\n",
       "      <td>G03</td>\n",
       "      <td>Guitarra</td>\n",
       "      <td>Fender Stratocaster 2020</td>\n",
       "    </tr>\n",
       "    <tr>\n",
       "      <th>3</th>\n",
       "      <td>V01</td>\n",
       "      <td>Violão</td>\n",
       "      <td>Tagima Dallas</td>\n",
       "    </tr>\n",
       "    <tr>\n",
       "      <th>4</th>\n",
       "      <td>V02</td>\n",
       "      <td>Violão</td>\n",
       "      <td>Takamine TG165</td>\n",
       "    </tr>\n",
       "  </tbody>\n",
       "</table>\n",
       "</div>"
      ],
      "text/plain": [
       "   Cód      Tipo                 Descrição\n",
       "0  G01  Guitarra      Gibson Les Paul 2010\n",
       "1  G02  Guitarra            Gibson SG 2016\n",
       "2  G03  Guitarra  Fender Stratocaster 2020\n",
       "3  V01    Violão             Tagima Dallas\n",
       "4  V02    Violão            Takamine TG165"
      ]
     },
     "execution_count": 16,
     "metadata": {},
     "output_type": "execute_result"
    }
   ],
   "source": [
    "df_itens.head()"
   ]
  },
  {
   "cell_type": "code",
   "execution_count": 17,
   "metadata": {},
   "outputs": [
    {
     "data": {
      "text/html": [
       "<div>\n",
       "<style scoped>\n",
       "    .dataframe tbody tr th:only-of-type {\n",
       "        vertical-align: middle;\n",
       "    }\n",
       "\n",
       "    .dataframe tbody tr th {\n",
       "        vertical-align: top;\n",
       "    }\n",
       "\n",
       "    .dataframe thead th {\n",
       "        text-align: right;\n",
       "    }\n",
       "</style>\n",
       "<table border=\"1\" class=\"dataframe\">\n",
       "  <thead>\n",
       "    <tr style=\"text-align: right;\">\n",
       "      <th></th>\n",
       "      <th>Cód</th>\n",
       "      <th>Preço</th>\n",
       "    </tr>\n",
       "  </thead>\n",
       "  <tbody>\n",
       "    <tr>\n",
       "      <th>0</th>\n",
       "      <td>G01</td>\n",
       "      <td>6000</td>\n",
       "    </tr>\n",
       "    <tr>\n",
       "      <th>1</th>\n",
       "      <td>G02</td>\n",
       "      <td>4500</td>\n",
       "    </tr>\n",
       "    <tr>\n",
       "      <th>2</th>\n",
       "      <td>G03</td>\n",
       "      <td>5500</td>\n",
       "    </tr>\n",
       "    <tr>\n",
       "      <th>3</th>\n",
       "      <td>V01</td>\n",
       "      <td>850</td>\n",
       "    </tr>\n",
       "    <tr>\n",
       "      <th>4</th>\n",
       "      <td>V02</td>\n",
       "      <td>3000</td>\n",
       "    </tr>\n",
       "  </tbody>\n",
       "</table>\n",
       "</div>"
      ],
      "text/plain": [
       "   Cód  Preço\n",
       "0  G01   6000\n",
       "1  G02   4500\n",
       "2  G03   5500\n",
       "3  V01    850\n",
       "4  V02   3000"
      ]
     },
     "execution_count": 17,
     "metadata": {},
     "output_type": "execute_result"
    }
   ],
   "source": [
    "df_precos.head()"
   ]
  },
  {
   "cell_type": "code",
   "execution_count": 20,
   "metadata": {},
   "outputs": [
    {
     "data": {
      "text/html": [
       "<div>\n",
       "<style scoped>\n",
       "    .dataframe tbody tr th:only-of-type {\n",
       "        vertical-align: middle;\n",
       "    }\n",
       "\n",
       "    .dataframe tbody tr th {\n",
       "        vertical-align: top;\n",
       "    }\n",
       "\n",
       "    .dataframe thead th {\n",
       "        text-align: right;\n",
       "    }\n",
       "</style>\n",
       "<table border=\"1\" class=\"dataframe\">\n",
       "  <thead>\n",
       "    <tr style=\"text-align: right;\">\n",
       "      <th></th>\n",
       "      <th>Cód</th>\n",
       "      <th>Data</th>\n",
       "      <th>Qtd.</th>\n",
       "    </tr>\n",
       "  </thead>\n",
       "  <tbody>\n",
       "    <tr>\n",
       "      <th>0</th>\n",
       "      <td>G01</td>\n",
       "      <td>2021-10-01</td>\n",
       "      <td>1</td>\n",
       "    </tr>\n",
       "    <tr>\n",
       "      <th>1</th>\n",
       "      <td>G02</td>\n",
       "      <td>2021-10-01</td>\n",
       "      <td>2</td>\n",
       "    </tr>\n",
       "    <tr>\n",
       "      <th>2</th>\n",
       "      <td>G01</td>\n",
       "      <td>2021-10-01</td>\n",
       "      <td>1</td>\n",
       "    </tr>\n",
       "    <tr>\n",
       "      <th>3</th>\n",
       "      <td>V01</td>\n",
       "      <td>2021-10-05</td>\n",
       "      <td>1</td>\n",
       "    </tr>\n",
       "    <tr>\n",
       "      <th>4</th>\n",
       "      <td>V02</td>\n",
       "      <td>2021-10-05</td>\n",
       "      <td>3</td>\n",
       "    </tr>\n",
       "  </tbody>\n",
       "</table>\n",
       "</div>"
      ],
      "text/plain": [
       "   Cód       Data  Qtd.\n",
       "0  G01 2021-10-01     1\n",
       "1  G02 2021-10-01     2\n",
       "2  G01 2021-10-01     1\n",
       "3  V01 2021-10-05     1\n",
       "4  V02 2021-10-05     3"
      ]
     },
     "execution_count": 20,
     "metadata": {},
     "output_type": "execute_result"
    }
   ],
   "source": [
    "df_vendas.head()"
   ]
  },
  {
   "cell_type": "markdown",
   "metadata": {},
   "source": [
    "Etapa 2"
   ]
  },
  {
   "cell_type": "code",
   "execution_count": 29,
   "metadata": {},
   "outputs": [
    {
     "data": {
      "text/html": [
       "<div>\n",
       "<style scoped>\n",
       "    .dataframe tbody tr th:only-of-type {\n",
       "        vertical-align: middle;\n",
       "    }\n",
       "\n",
       "    .dataframe tbody tr th {\n",
       "        vertical-align: top;\n",
       "    }\n",
       "\n",
       "    .dataframe thead th {\n",
       "        text-align: right;\n",
       "    }\n",
       "</style>\n",
       "<table border=\"1\" class=\"dataframe\">\n",
       "  <thead>\n",
       "    <tr style=\"text-align: right;\">\n",
       "      <th></th>\n",
       "      <th>Cód</th>\n",
       "      <th>Data</th>\n",
       "      <th>Qtd.</th>\n",
       "      <th>Tipo</th>\n",
       "      <th>Descrição</th>\n",
       "    </tr>\n",
       "  </thead>\n",
       "  <tbody>\n",
       "    <tr>\n",
       "      <th>0</th>\n",
       "      <td>G01</td>\n",
       "      <td>2021-10-01</td>\n",
       "      <td>1.0</td>\n",
       "      <td>Guitarra</td>\n",
       "      <td>Gibson Les Paul 2010</td>\n",
       "    </tr>\n",
       "    <tr>\n",
       "      <th>1</th>\n",
       "      <td>G01</td>\n",
       "      <td>2021-10-01</td>\n",
       "      <td>1.0</td>\n",
       "      <td>Guitarra</td>\n",
       "      <td>Gibson Les Paul 2010</td>\n",
       "    </tr>\n",
       "    <tr>\n",
       "      <th>2</th>\n",
       "      <td>G01</td>\n",
       "      <td>2021-10-11</td>\n",
       "      <td>1.0</td>\n",
       "      <td>Guitarra</td>\n",
       "      <td>Gibson Les Paul 2010</td>\n",
       "    </tr>\n",
       "    <tr>\n",
       "      <th>3</th>\n",
       "      <td>G01</td>\n",
       "      <td>2021-10-17</td>\n",
       "      <td>1.0</td>\n",
       "      <td>Guitarra</td>\n",
       "      <td>Gibson Les Paul 2010</td>\n",
       "    </tr>\n",
       "    <tr>\n",
       "      <th>4</th>\n",
       "      <td>G01</td>\n",
       "      <td>2021-10-21</td>\n",
       "      <td>1.0</td>\n",
       "      <td>Guitarra</td>\n",
       "      <td>Gibson Les Paul 2010</td>\n",
       "    </tr>\n",
       "    <tr>\n",
       "      <th>5</th>\n",
       "      <td>G01</td>\n",
       "      <td>2021-10-05</td>\n",
       "      <td>2.0</td>\n",
       "      <td>Guitarra</td>\n",
       "      <td>Gibson Les Paul 2010</td>\n",
       "    </tr>\n",
       "    <tr>\n",
       "      <th>6</th>\n",
       "      <td>G01</td>\n",
       "      <td>2021-10-05</td>\n",
       "      <td>2.0</td>\n",
       "      <td>Guitarra</td>\n",
       "      <td>Gibson Les Paul 2010</td>\n",
       "    </tr>\n",
       "    <tr>\n",
       "      <th>7</th>\n",
       "      <td>G02</td>\n",
       "      <td>2021-10-01</td>\n",
       "      <td>2.0</td>\n",
       "      <td>Guitarra</td>\n",
       "      <td>Gibson SG 2016</td>\n",
       "    </tr>\n",
       "    <tr>\n",
       "      <th>8</th>\n",
       "      <td>V01</td>\n",
       "      <td>2021-10-05</td>\n",
       "      <td>1.0</td>\n",
       "      <td>Violão</td>\n",
       "      <td>Tagima Dallas</td>\n",
       "    </tr>\n",
       "    <tr>\n",
       "      <th>9</th>\n",
       "      <td>V01</td>\n",
       "      <td>2021-10-21</td>\n",
       "      <td>1.0</td>\n",
       "      <td>Violão</td>\n",
       "      <td>Tagima Dallas</td>\n",
       "    </tr>\n",
       "  </tbody>\n",
       "</table>\n",
       "</div>"
      ],
      "text/plain": [
       "   Cód       Data  Qtd.      Tipo             Descrição\n",
       "0  G01 2021-10-01   1.0  Guitarra  Gibson Les Paul 2010\n",
       "1  G01 2021-10-01   1.0  Guitarra  Gibson Les Paul 2010\n",
       "2  G01 2021-10-11   1.0  Guitarra  Gibson Les Paul 2010\n",
       "3  G01 2021-10-17   1.0  Guitarra  Gibson Les Paul 2010\n",
       "4  G01 2021-10-21   1.0  Guitarra  Gibson Les Paul 2010\n",
       "5  G01 2021-10-05   2.0  Guitarra  Gibson Les Paul 2010\n",
       "6  G01 2021-10-05   2.0  Guitarra  Gibson Les Paul 2010\n",
       "7  G02 2021-10-01   2.0  Guitarra        Gibson SG 2016\n",
       "8  V01 2021-10-05   1.0    Violão         Tagima Dallas\n",
       "9  V01 2021-10-21   1.0    Violão         Tagima Dallas"
      ]
     },
     "execution_count": 29,
     "metadata": {},
     "output_type": "execute_result"
    }
   ],
   "source": [
    "\"\"\"\n",
    "1 - Os dados importados do arquivo “Vendas_Luthier.xlsx” correspondem as vendas de\n",
    "uma loja em determinado período. Usando como referências os dados do arquivo\n",
    "“Itens_Luthier.xlsx”, crie colunas adicionais aos dados de vendas com as informações\n",
    "de “Tipo” e “Descrição”. A chave primária das bases é a coluna “Cód”. Nesse primeiro\n",
    "momento, itens na tabela de vendas que não tiverem a descrição correspondente na\n",
    "tabela de itens deverão ser mantidos após a concatenação.\n",
    "\"\"\"\n",
    "\n",
    "df_vendas_detalhadas = pd.merge(df_vendas, df_itens, on='Cód', how='outer')\n",
    "df_vendas_detalhadas.head(10)"
   ]
  },
  {
   "cell_type": "code",
   "execution_count": 30,
   "metadata": {},
   "outputs": [
    {
     "data": {
      "text/html": [
       "<div>\n",
       "<style scoped>\n",
       "    .dataframe tbody tr th:only-of-type {\n",
       "        vertical-align: middle;\n",
       "    }\n",
       "\n",
       "    .dataframe tbody tr th {\n",
       "        vertical-align: top;\n",
       "    }\n",
       "\n",
       "    .dataframe thead th {\n",
       "        text-align: right;\n",
       "    }\n",
       "</style>\n",
       "<table border=\"1\" class=\"dataframe\">\n",
       "  <thead>\n",
       "    <tr style=\"text-align: right;\">\n",
       "      <th></th>\n",
       "      <th>Cód</th>\n",
       "      <th>Data</th>\n",
       "      <th>Qtd.</th>\n",
       "      <th>Tipo</th>\n",
       "      <th>Descrição</th>\n",
       "      <th>Preço</th>\n",
       "    </tr>\n",
       "  </thead>\n",
       "  <tbody>\n",
       "    <tr>\n",
       "      <th>0</th>\n",
       "      <td>G01</td>\n",
       "      <td>2021-10-01</td>\n",
       "      <td>1.0</td>\n",
       "      <td>Guitarra</td>\n",
       "      <td>Gibson Les Paul 2010</td>\n",
       "      <td>6000.0</td>\n",
       "    </tr>\n",
       "    <tr>\n",
       "      <th>1</th>\n",
       "      <td>G01</td>\n",
       "      <td>2021-10-01</td>\n",
       "      <td>1.0</td>\n",
       "      <td>Guitarra</td>\n",
       "      <td>Gibson Les Paul 2010</td>\n",
       "      <td>6000.0</td>\n",
       "    </tr>\n",
       "    <tr>\n",
       "      <th>2</th>\n",
       "      <td>G01</td>\n",
       "      <td>2021-10-11</td>\n",
       "      <td>1.0</td>\n",
       "      <td>Guitarra</td>\n",
       "      <td>Gibson Les Paul 2010</td>\n",
       "      <td>6000.0</td>\n",
       "    </tr>\n",
       "    <tr>\n",
       "      <th>3</th>\n",
       "      <td>G01</td>\n",
       "      <td>2021-10-17</td>\n",
       "      <td>1.0</td>\n",
       "      <td>Guitarra</td>\n",
       "      <td>Gibson Les Paul 2010</td>\n",
       "      <td>6000.0</td>\n",
       "    </tr>\n",
       "    <tr>\n",
       "      <th>4</th>\n",
       "      <td>G01</td>\n",
       "      <td>2021-10-21</td>\n",
       "      <td>1.0</td>\n",
       "      <td>Guitarra</td>\n",
       "      <td>Gibson Les Paul 2010</td>\n",
       "      <td>6000.0</td>\n",
       "    </tr>\n",
       "    <tr>\n",
       "      <th>5</th>\n",
       "      <td>G01</td>\n",
       "      <td>2021-10-05</td>\n",
       "      <td>2.0</td>\n",
       "      <td>Guitarra</td>\n",
       "      <td>Gibson Les Paul 2010</td>\n",
       "      <td>6000.0</td>\n",
       "    </tr>\n",
       "    <tr>\n",
       "      <th>6</th>\n",
       "      <td>G01</td>\n",
       "      <td>2021-10-05</td>\n",
       "      <td>2.0</td>\n",
       "      <td>Guitarra</td>\n",
       "      <td>Gibson Les Paul 2010</td>\n",
       "      <td>6000.0</td>\n",
       "    </tr>\n",
       "    <tr>\n",
       "      <th>7</th>\n",
       "      <td>G02</td>\n",
       "      <td>2021-10-01</td>\n",
       "      <td>2.0</td>\n",
       "      <td>Guitarra</td>\n",
       "      <td>Gibson SG 2016</td>\n",
       "      <td>4500.0</td>\n",
       "    </tr>\n",
       "    <tr>\n",
       "      <th>8</th>\n",
       "      <td>V01</td>\n",
       "      <td>2021-10-05</td>\n",
       "      <td>1.0</td>\n",
       "      <td>Violão</td>\n",
       "      <td>Tagima Dallas</td>\n",
       "      <td>850.0</td>\n",
       "    </tr>\n",
       "    <tr>\n",
       "      <th>9</th>\n",
       "      <td>V01</td>\n",
       "      <td>2021-10-21</td>\n",
       "      <td>1.0</td>\n",
       "      <td>Violão</td>\n",
       "      <td>Tagima Dallas</td>\n",
       "      <td>850.0</td>\n",
       "    </tr>\n",
       "  </tbody>\n",
       "</table>\n",
       "</div>"
      ],
      "text/plain": [
       "   Cód       Data  Qtd.      Tipo             Descrição   Preço\n",
       "0  G01 2021-10-01   1.0  Guitarra  Gibson Les Paul 2010  6000.0\n",
       "1  G01 2021-10-01   1.0  Guitarra  Gibson Les Paul 2010  6000.0\n",
       "2  G01 2021-10-11   1.0  Guitarra  Gibson Les Paul 2010  6000.0\n",
       "3  G01 2021-10-17   1.0  Guitarra  Gibson Les Paul 2010  6000.0\n",
       "4  G01 2021-10-21   1.0  Guitarra  Gibson Les Paul 2010  6000.0\n",
       "5  G01 2021-10-05   2.0  Guitarra  Gibson Les Paul 2010  6000.0\n",
       "6  G01 2021-10-05   2.0  Guitarra  Gibson Les Paul 2010  6000.0\n",
       "7  G02 2021-10-01   2.0  Guitarra        Gibson SG 2016  4500.0\n",
       "8  V01 2021-10-05   1.0    Violão         Tagima Dallas   850.0\n",
       "9  V01 2021-10-21   1.0    Violão         Tagima Dallas   850.0"
      ]
     },
     "execution_count": 30,
     "metadata": {},
     "output_type": "execute_result"
    }
   ],
   "source": [
    "\"\"\"\n",
    "2 - Partindo da tabela resultante da etapa acima, use como referência os dados do\n",
    "arquivo “Precos_Luthier.xlsx” e crie uma coluna com os preços dos itens vendidos.\n",
    "Novamente, itens na tabela de vendas que não tiverem a descrição correspondente\n",
    "na tabela de preços deverão ser mantidos após a concatenação.\n",
    "\"\"\"\n",
    "\n",
    "df_vendas_detalhadas = pd.merge(df_vendas_detalhadas, df_precos, on='Cód', how='outer')\n",
    "df_vendas_detalhadas.head(10)"
   ]
  },
  {
   "cell_type": "code",
   "execution_count": 32,
   "metadata": {},
   "outputs": [
    {
     "data": {
      "text/html": [
       "<div>\n",
       "<style scoped>\n",
       "    .dataframe tbody tr th:only-of-type {\n",
       "        vertical-align: middle;\n",
       "    }\n",
       "\n",
       "    .dataframe tbody tr th {\n",
       "        vertical-align: top;\n",
       "    }\n",
       "\n",
       "    .dataframe thead th {\n",
       "        text-align: right;\n",
       "    }\n",
       "</style>\n",
       "<table border=\"1\" class=\"dataframe\">\n",
       "  <thead>\n",
       "    <tr style=\"text-align: right;\">\n",
       "      <th></th>\n",
       "      <th>Cód</th>\n",
       "      <th>Data</th>\n",
       "      <th>Qtd.</th>\n",
       "      <th>Tipo</th>\n",
       "      <th>Descrição</th>\n",
       "      <th>Preço</th>\n",
       "      <th>Faturamento</th>\n",
       "    </tr>\n",
       "  </thead>\n",
       "  <tbody>\n",
       "    <tr>\n",
       "      <th>0</th>\n",
       "      <td>G01</td>\n",
       "      <td>2021-10-01</td>\n",
       "      <td>1.0</td>\n",
       "      <td>Guitarra</td>\n",
       "      <td>Gibson Les Paul 2010</td>\n",
       "      <td>6000.0</td>\n",
       "      <td>6000.0</td>\n",
       "    </tr>\n",
       "    <tr>\n",
       "      <th>1</th>\n",
       "      <td>G01</td>\n",
       "      <td>2021-10-01</td>\n",
       "      <td>1.0</td>\n",
       "      <td>Guitarra</td>\n",
       "      <td>Gibson Les Paul 2010</td>\n",
       "      <td>6000.0</td>\n",
       "      <td>6000.0</td>\n",
       "    </tr>\n",
       "    <tr>\n",
       "      <th>2</th>\n",
       "      <td>G01</td>\n",
       "      <td>2021-10-11</td>\n",
       "      <td>1.0</td>\n",
       "      <td>Guitarra</td>\n",
       "      <td>Gibson Les Paul 2010</td>\n",
       "      <td>6000.0</td>\n",
       "      <td>6000.0</td>\n",
       "    </tr>\n",
       "    <tr>\n",
       "      <th>3</th>\n",
       "      <td>G01</td>\n",
       "      <td>2021-10-17</td>\n",
       "      <td>1.0</td>\n",
       "      <td>Guitarra</td>\n",
       "      <td>Gibson Les Paul 2010</td>\n",
       "      <td>6000.0</td>\n",
       "      <td>6000.0</td>\n",
       "    </tr>\n",
       "    <tr>\n",
       "      <th>4</th>\n",
       "      <td>G01</td>\n",
       "      <td>2021-10-21</td>\n",
       "      <td>1.0</td>\n",
       "      <td>Guitarra</td>\n",
       "      <td>Gibson Les Paul 2010</td>\n",
       "      <td>6000.0</td>\n",
       "      <td>6000.0</td>\n",
       "    </tr>\n",
       "    <tr>\n",
       "      <th>5</th>\n",
       "      <td>G01</td>\n",
       "      <td>2021-10-05</td>\n",
       "      <td>2.0</td>\n",
       "      <td>Guitarra</td>\n",
       "      <td>Gibson Les Paul 2010</td>\n",
       "      <td>6000.0</td>\n",
       "      <td>12000.0</td>\n",
       "    </tr>\n",
       "    <tr>\n",
       "      <th>6</th>\n",
       "      <td>G01</td>\n",
       "      <td>2021-10-05</td>\n",
       "      <td>2.0</td>\n",
       "      <td>Guitarra</td>\n",
       "      <td>Gibson Les Paul 2010</td>\n",
       "      <td>6000.0</td>\n",
       "      <td>12000.0</td>\n",
       "    </tr>\n",
       "    <tr>\n",
       "      <th>7</th>\n",
       "      <td>G02</td>\n",
       "      <td>2021-10-01</td>\n",
       "      <td>2.0</td>\n",
       "      <td>Guitarra</td>\n",
       "      <td>Gibson SG 2016</td>\n",
       "      <td>4500.0</td>\n",
       "      <td>9000.0</td>\n",
       "    </tr>\n",
       "    <tr>\n",
       "      <th>8</th>\n",
       "      <td>V01</td>\n",
       "      <td>2021-10-05</td>\n",
       "      <td>1.0</td>\n",
       "      <td>Violão</td>\n",
       "      <td>Tagima Dallas</td>\n",
       "      <td>850.0</td>\n",
       "      <td>850.0</td>\n",
       "    </tr>\n",
       "    <tr>\n",
       "      <th>9</th>\n",
       "      <td>V01</td>\n",
       "      <td>2021-10-21</td>\n",
       "      <td>1.0</td>\n",
       "      <td>Violão</td>\n",
       "      <td>Tagima Dallas</td>\n",
       "      <td>850.0</td>\n",
       "      <td>850.0</td>\n",
       "    </tr>\n",
       "  </tbody>\n",
       "</table>\n",
       "</div>"
      ],
      "text/plain": [
       "   Cód       Data  Qtd.      Tipo             Descrição   Preço  Faturamento\n",
       "0  G01 2021-10-01   1.0  Guitarra  Gibson Les Paul 2010  6000.0       6000.0\n",
       "1  G01 2021-10-01   1.0  Guitarra  Gibson Les Paul 2010  6000.0       6000.0\n",
       "2  G01 2021-10-11   1.0  Guitarra  Gibson Les Paul 2010  6000.0       6000.0\n",
       "3  G01 2021-10-17   1.0  Guitarra  Gibson Les Paul 2010  6000.0       6000.0\n",
       "4  G01 2021-10-21   1.0  Guitarra  Gibson Les Paul 2010  6000.0       6000.0\n",
       "5  G01 2021-10-05   2.0  Guitarra  Gibson Les Paul 2010  6000.0      12000.0\n",
       "6  G01 2021-10-05   2.0  Guitarra  Gibson Les Paul 2010  6000.0      12000.0\n",
       "7  G02 2021-10-01   2.0  Guitarra        Gibson SG 2016  4500.0       9000.0\n",
       "8  V01 2021-10-05   1.0    Violão         Tagima Dallas   850.0        850.0\n",
       "9  V01 2021-10-21   1.0    Violão         Tagima Dallas   850.0        850.0"
      ]
     },
     "execution_count": 32,
     "metadata": {},
     "output_type": "execute_result"
    }
   ],
   "source": [
    "# 3 - Crie uma coluna com o faturamento por item, ou seja, uma coluna que multiplica a quantidade vendida pelo preço de venda\n",
    "\n",
    "df_vendas_detalhadas['Faturamento'] = df_vendas_detalhadas['Qtd.'] * df_vendas_detalhadas['Preço']\n",
    "df_vendas_detalhadas.head(10)"
   ]
  },
  {
   "cell_type": "code",
   "execution_count": 33,
   "metadata": {},
   "outputs": [
    {
     "data": {
      "text/html": [
       "<div>\n",
       "<style scoped>\n",
       "    .dataframe tbody tr th:only-of-type {\n",
       "        vertical-align: middle;\n",
       "    }\n",
       "\n",
       "    .dataframe tbody tr th {\n",
       "        vertical-align: top;\n",
       "    }\n",
       "\n",
       "    .dataframe thead th {\n",
       "        text-align: right;\n",
       "    }\n",
       "</style>\n",
       "<table border=\"1\" class=\"dataframe\">\n",
       "  <thead>\n",
       "    <tr style=\"text-align: right;\">\n",
       "      <th></th>\n",
       "      <th>Cód</th>\n",
       "      <th>Data</th>\n",
       "      <th>Qtd.</th>\n",
       "      <th>Tipo</th>\n",
       "      <th>Descrição</th>\n",
       "      <th>Preço</th>\n",
       "      <th>Faturamento</th>\n",
       "    </tr>\n",
       "  </thead>\n",
       "  <tbody>\n",
       "    <tr>\n",
       "      <th>22</th>\n",
       "      <td>G06</td>\n",
       "      <td>2021-10-21</td>\n",
       "      <td>2.0</td>\n",
       "      <td>NaN</td>\n",
       "      <td>NaN</td>\n",
       "      <td>NaN</td>\n",
       "      <td>NaN</td>\n",
       "    </tr>\n",
       "    <tr>\n",
       "      <th>23</th>\n",
       "      <td>V03</td>\n",
       "      <td>2021-10-21</td>\n",
       "      <td>3.0</td>\n",
       "      <td>NaN</td>\n",
       "      <td>NaN</td>\n",
       "      <td>NaN</td>\n",
       "      <td>NaN</td>\n",
       "    </tr>\n",
       "    <tr>\n",
       "      <th>24</th>\n",
       "      <td>G03</td>\n",
       "      <td>NaT</td>\n",
       "      <td>NaN</td>\n",
       "      <td>Guitarra</td>\n",
       "      <td>Fender Stratocaster 2020</td>\n",
       "      <td>5500.0</td>\n",
       "      <td>NaN</td>\n",
       "    </tr>\n",
       "  </tbody>\n",
       "</table>\n",
       "</div>"
      ],
      "text/plain": [
       "    Cód       Data  Qtd.      Tipo                 Descrição   Preço  \\\n",
       "22  G06 2021-10-21   2.0       NaN                       NaN     NaN   \n",
       "23  V03 2021-10-21   3.0       NaN                       NaN     NaN   \n",
       "24  G03        NaT   NaN  Guitarra  Fender Stratocaster 2020  5500.0   \n",
       "\n",
       "    Faturamento  \n",
       "22          NaN  \n",
       "23          NaN  \n",
       "24          NaN  "
      ]
     },
     "execution_count": 33,
     "metadata": {},
     "output_type": "execute_result"
    }
   ],
   "source": [
    "# 4 - Remova e exporte à parte os itens que tiverem algum dado faltante nas etapas anteriores\n",
    "\n",
    "df_linhas_valores_nulos = df_vendas_detalhadas[df_vendas_detalhadas.isnull().any(axis=1)]\n",
    "df_linhas_valores_nulos.head()"
   ]
  },
  {
   "cell_type": "code",
   "execution_count": 35,
   "metadata": {},
   "outputs": [],
   "source": [
    "df_linhas_valores_nulos.to_excel('df_linhas_valores_nulos.xlsx')"
   ]
  },
  {
   "cell_type": "code",
   "execution_count": 36,
   "metadata": {},
   "outputs": [],
   "source": [
    "df_vendas_detalhadas.dropna(inplace=True)"
   ]
  },
  {
   "cell_type": "code",
   "execution_count": 37,
   "metadata": {},
   "outputs": [],
   "source": [
    "# 5 - Exporte o arquivo final, sem os dados faltantes\n",
    "\n",
    "df_vendas_detalhadas.to_excel('df_vendas_detalhadas.xlsx')"
   ]
  },
  {
   "cell_type": "code",
   "execution_count": 39,
   "metadata": {},
   "outputs": [
    {
     "data": {
      "text/plain": [
       "121150.0"
      ]
     },
     "execution_count": 39,
     "metadata": {},
     "output_type": "execute_result"
    }
   ],
   "source": [
    "# 6 - Qual o faturamento total mensal da loja e por tipo de produto?\n",
    "\n",
    "df_vendas_detalhadas['Faturamento'].sum()"
   ]
  },
  {
   "cell_type": "code",
   "execution_count": 40,
   "metadata": {},
   "outputs": [
    {
     "data": {
      "text/plain": [
       "Tipo\n",
       "Guitarra    95500.0\n",
       "Violão      25650.0\n",
       "Name: Faturamento, dtype: float64"
      ]
     },
     "execution_count": 40,
     "metadata": {},
     "output_type": "execute_result"
    }
   ],
   "source": [
    "df_vendas_detalhadas.groupby('Tipo')['Faturamento'].sum()"
   ]
  },
  {
   "cell_type": "code",
   "execution_count": 53,
   "metadata": {},
   "outputs": [
    {
     "data": {
      "text/plain": [
       "Descrição\n",
       "Gibson Les Paul 2010    54000.0\n",
       "Jackson 2021            32500.0\n",
       "Takamine TG165          18000.0\n",
       "Name: Faturamento, dtype: float64"
      ]
     },
     "execution_count": 53,
     "metadata": {},
     "output_type": "execute_result"
    }
   ],
   "source": [
    "# 7 - Quais os três itens que geraram maior faturamento nesse mês?\n",
    "\n",
    "df_vendas_detalhadas.groupby('Descrição')['Faturamento'].sum().sort_values(ascending=False).head(3)"
   ]
  }
 ],
 "metadata": {
  "kernelspec": {
   "display_name": "Python 3.9.13 ('base')",
   "language": "python",
   "name": "python3"
  },
  "language_info": {
   "codemirror_mode": {
    "name": "ipython",
    "version": 3
   },
   "file_extension": ".py",
   "mimetype": "text/x-python",
   "name": "python",
   "nbconvert_exporter": "python",
   "pygments_lexer": "ipython3",
   "version": "3.9.13"
  },
  "orig_nbformat": 4,
  "vscode": {
   "interpreter": {
    "hash": "d674aba619e9128d5d95f68874c090de0e48b8e67c1ba838c5d294b8a6cf0663"
   }
  }
 },
 "nbformat": 4,
 "nbformat_minor": 2
}
